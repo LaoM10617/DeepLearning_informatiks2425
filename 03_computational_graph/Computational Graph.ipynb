{
 "cells": [
  {
   "cell_type": "markdown",
   "metadata": {},
   "source": [
    "# Tutorial Computational Graphs\n",
    "\n",
    "In this exercise you will implement a computational graph in python."
   ]
  },
  {
   "cell_type": "code",
   "execution_count": null,
   "metadata": {},
   "outputs": [],
   "source": [
    "import numpy as np\n",
    "import graphviz as gz\n",
    "from matplotlib import pyplot as plt\n",
    "from IPython.display import display"
   ]
  },
  {
   "cell_type": "code",
   "execution_count": null,
   "metadata": {},
   "outputs": [],
   "source": [
    "class Gate:\n",
    "    \n",
    "    \"\"\"\n",
    "        Every gate has a set of inputs (input_nodes) and consumers.\n",
    "        Additionally a gate has to implement the methods forward and backward.\n",
    "        The forward method computes the result with respect to the given input nodes \n",
    "        (use the out field) of the input gates and stores the value in the field out.\n",
    "        The backward function computes and propagates the gradient for the given gate.\n",
    "        On call of the backward function, the gate uses the incoming gradient dz and adds \n",
    "        to all input nodes the corresponding gradient.\n",
    "    \"\"\"\n",
    "    \n",
    "    name = \"???\"\n",
    "\n",
    "    def __init__(self, input_nodes=[], name=None):\n",
    "        self.out = None\n",
    "        self.dz = 0\n",
    "        self.dzs = {}\n",
    "        \n",
    "        if name is not None:\n",
    "            self.name = name\n",
    "        \n",
    "        self.input_nodes = input_nodes\n",
    "\n",
    "        self.consumers = []\n",
    "\n",
    "        for input_node in input_nodes:\n",
    "            input_node.consumers.append(self)\n",
    "\n",
    "    def forward(self):\n",
    "        \"\"\"Computes the output of this operation.\n",
    "        \"\" Must be implemented by the particular operation.\n",
    "        \"\"\"\n",
    "        pass\n",
    "\n",
    "    def backward(self):\n",
    "        \"\"\"\n",
    "        \"\" Must be implemented by the particular operation.\n",
    "        \"\"\"\n",
    "        pass\n",
    "    \n",
    "    def put_gradient(self, gate, dz):\n",
    "        if gate in self.consumers:\n",
    "            self.dz += dz * gate.dz\n",
    "            self.dzs[gate] = dz"
   ]
  },
  {
   "cell_type": "code",
   "execution_count": null,
   "metadata": {},
   "outputs": [],
   "source": [
    "class ComputationalGraph:\n",
    "    \n",
    "    \"\"\"\n",
    "        This class implements the backward and forward function for the whole graph.\n",
    "        Both methods return a graphviz object visualizing the respective steps.\n",
    "        To draw the computational graphs in jupyter notebook you can for instance use the imported display function.\n",
    "    \"\"\"\n",
    "    \n",
    "    def __init__(self, target):\n",
    "        def get_nodes(target, nodes=[]):\n",
    "            if target in nodes:\n",
    "                nodes.remove(target)\n",
    "            nodes.append(target)\n",
    "            for inp in target.input_nodes:\n",
    "                get_nodes(inp, nodes)\n",
    "            return nodes\n",
    "        self.nodes = list(reversed(get_nodes(target)))\n",
    "    \n",
    "    def forward(self, inputs):\n",
    "        g = gz.Digraph('G', strict=True)\n",
    "        g.graph_attr['rankdir'] = 'LR'\n",
    "        for gate in self.nodes:\n",
    "            if gate in inputs:\n",
    "                gate.value = inputs[gate]\n",
    "            gate.forward()\n",
    "            g.node(str(id(gate)), label=\"<%s<br/><FONT POINT-SIZE='10'>%.3f</FONT>>\" % (gate.name, gate.out))\n",
    "            for node in gate.consumers:\n",
    "                g.edge(str(id(gate)), str(id(node)))\n",
    "        return g\n",
    "    \n",
    "    def backward(self):\n",
    "        g = gz.Digraph('G', strict=True)\n",
    "        g.graph_attr['rankdir'] = 'RL'\n",
    "        for gate in self.nodes: gate.dz = 0\n",
    "        self.nodes[-1].dz = 1\n",
    "        for gate in reversed(self.nodes):\n",
    "            gate.backward()\n",
    "            g.node(str(id(gate)), label=\"<%s<br/><FONT POINT-SIZE='10'>%.3f</FONT>>\" % (gate.name, gate.dz))\n",
    "            for node in gate.input_nodes:\n",
    "                g.edge(str(id(gate)), str(id(node)), label=\"%.3f\" % node.dzs[gate])\n",
    "        return g"
   ]
  },
  {
   "cell_type": "markdown",
   "metadata": {},
   "source": [
    "* Example: Add Gate"
   ]
  },
  {
   "cell_type": "code",
   "execution_count": null,
   "metadata": {},
   "outputs": [],
   "source": [
    "class AddGate(Gate):\n",
    "    \n",
    "    name = \"+\"\n",
    "    _\n",
    "    def __init__(self, inputs, name=None):\n",
    "        super().__init__(inputs, name)\n",
    "    \n",
    "    def forward(self):\n",
    "        self.input_values = [n.out for n in self.input_nodes]\n",
    "        self.out = np.sum(self.input_values)\n",
    "    \n",
    "    def backward(self):\n",
    "        for i, node in enumerate(self.input_nodes):\n",
    "            node.put_gradient(self, 1)"
   ]
  },
  {
   "cell_type": "markdown",
   "metadata": {},
   "source": [
    "* Example: Input Gate"
   ]
  },
  {
   "cell_type": "code",
   "execution_count": null,
   "metadata": {},
   "outputs": [],
   "source": [
    "class InputGate(Gate):\n",
    "    \n",
    "    name = \"inp\"\n",
    "    \n",
    "    def __init__(self, name=None):\n",
    "        super().__init__(name=name)\n",
    "        self.value = 0\n",
    " \n",
    "    def forward(self):\n",
    "        self.out = self.value\n",
    "    \n",
    "    def backward(self):\n",
    "        pass # There are no input nodes => nothing to do"
   ]
  },
  {
   "cell_type": "markdown",
   "metadata": {},
   "source": [
    "* Implement a gate that represents a weight. The constructor shall take the parameter $\\alpha$ that represents the learning rate of this weight."
   ]
  },
  {
   "cell_type": "code",
   "execution_count": null,
   "metadata": {},
   "outputs": [],
   "source": [
    "class WeightGate(Gate):\n",
    "    \n",
    "    name = \"w\"\n",
    "    \n",
    "    def __init__(self, alpha=0.1, name=None, weight=None):\n",
    "        # TODO\n",
    "        raise NotImplementedError()\n",
    "    \n",
    "    def forward(self):\n",
    "        # TODO\n",
    "        raise NotImplementedError()\n",
    "    \n",
    "    def backward(self):\n",
    "        # TODO\n",
    "        raise NotImplementedError()"
   ]
  },
  {
   "cell_type": "markdown",
   "metadata": {},
   "source": [
    "* Implement a gate that multiplies the outputs of a set of input gates."
   ]
  },
  {
   "cell_type": "code",
   "execution_count": null,
   "metadata": {},
   "outputs": [],
   "source": [
    "class MultiplyGate(Gate):\n",
    "    \n",
    "    name = \"*\"\n",
    "    _\n",
    "    def __init__(self, inputs, name=None):\n",
    "        # TODO\n",
    "        raise NotImplementedError()\n",
    "    \n",
    "    def forward(self):\n",
    "        # TODO\n",
    "        raise NotImplementedError()\n",
    "    \n",
    "    def backward(self):\n",
    "        # TODO\n",
    "        raise NotImplementedError()"
   ]
  },
  {
   "cell_type": "markdown",
   "metadata": {},
   "source": [
    "* Implement a sigmoid gate that computes the sigmoid of one input."
   ]
  },
  {
   "cell_type": "code",
   "execution_count": null,
   "metadata": {},
   "outputs": [],
   "source": [
    "class SigmoidGate(Gate):\n",
    "    \n",
    "    name = \"sig\"\n",
    "    _\n",
    "    def __init__(self, inp1, name=None):\n",
    "        # TODO\n",
    "        raise NotImplementedError()\n",
    "    \n",
    "    def forward(self):\n",
    "        # TODO\n",
    "        raise NotImplementedError()\n",
    "    \n",
    "    def backward(self):\n",
    "        # TODO\n",
    "        raise NotImplementedError()"
   ]
  },
  {
   "cell_type": "markdown",
   "metadata": {},
   "source": [
    "* Implement a gate with the following loss function $L(y, \\hat{y}) = (\\hat{y} - y)^2$."
   ]
  },
  {
   "cell_type": "code",
   "execution_count": null,
   "metadata": {},
   "outputs": [],
   "source": [
    "class SquaredLossGate(Gate):\n",
    "    \n",
    "    name = \"MSE\"\n",
    "    \n",
    "    def __init__(self, y, y_pred, name=None):\n",
    "        # TODO\n",
    "        raise NotImplementedError()\n",
    "    \n",
    "    def forward(self):\n",
    "        # TODO\n",
    "        raise NotImplementedError()\n",
    "    \n",
    "    def backward(self):\n",
    "        # TODO\n",
    "        raise NotImplementedError()"
   ]
  },
  {
   "cell_type": "markdown",
   "metadata": {},
   "source": [
    "* Build the computational graph from exercise 3-1 in python and compute display the computational graph after forward and backward. "
   ]
  },
  {
   "cell_type": "code",
   "execution_count": null,
   "metadata": {},
   "outputs": [],
   "source": [
    "# TODO\n",
    "raise NotImplementedError()"
   ]
  },
  {
   "cell_type": "markdown",
   "metadata": {},
   "source": [
    "* Construct and train a computational graph / network that can classify the XOR dataset with stochastic gradient descent and the already implemented squared loss function."
   ]
  },
  {
   "cell_type": "code",
   "execution_count": null,
   "metadata": {},
   "outputs": [],
   "source": [
    "## XOR\n",
    "X = [[0,0],[0,1],[1,0],[1,1]]\n",
    "Y = [0, 1, 1, 0]"
   ]
  },
  {
   "cell_type": "code",
   "execution_count": null,
   "metadata": {},
   "outputs": [],
   "source": [
    "# TODO\n",
    "raise NotImplementedError()"
   ]
  }
 ],
 "metadata": {
  "kernelspec": {
   "display_name": "Python 3",
   "language": "python",
   "name": "python3"
  },
  "language_info": {
   "codemirror_mode": {
    "name": "ipython",
    "version": 3
   },
   "file_extension": ".py",
   "mimetype": "text/x-python",
   "name": "python",
   "nbconvert_exporter": "python",
   "pygments_lexer": "ipython3",
   "version": "3.6.6"
  }
 },
 "nbformat": 4,
 "nbformat_minor": 2
}
