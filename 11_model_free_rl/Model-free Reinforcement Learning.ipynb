{
 "cells": [
  {
   "attachments": {
    "grafik.png": {
     "image/png": "[encoded data removed]"
    }
   },
   "cell_type": "markdown",
   "metadata": {},
   "source": [
    "# Model-free Reinforcement Learning\n",
    "\n",
    "Assume that we have the same grid world as in the previous tutorial:\n",
    "\n",
    "![grafik.png](attachment:grafik.png)\n",
    "\n",
    "The goal of the agent whose position is at the bottom left corner is to maximize the expected future reward.\n",
    "The top right (reward +1) and the middle right cell (reward -1) are terminal states.\n",
    "There are four different actions the agent can choose, namely go up, down, left and right.\n",
    "However, there is a chance that the agent will result in a wrong grid cell by accident.\n",
    "If the action is going up, there is a chance of 0.8 that the agent moves up, a chance of 0.1 that he moves left and a chance of 0.1 that he moves right.\n",
    "All other actions behave accordingly.\n",
    "If the agent would bounce on a wall it stays at the current position.\n",
    "Note that the agent cannot move through the grayed-out grid cell.\n",
    "Assume a gamma value of $\\gamma=0.9$.\n"
   ]
  },
  {
   "cell_type": "markdown",
   "metadata": {},
   "source": [
    "### Environment Definition:"
   ]
  },
  {
   "cell_type": "markdown",
   "metadata": {},
   "source": [
    "In the following, we define the described environment as an MDP.  The start (bottom left) is defined as index 0. The cell indices then increase from left to right and continue in the next row above. I.e. the cell above the start has index 4, the one with -1 reward has index 7, the cell with +1 index 11."
   ]
  },
  {
   "cell_type": "code",
   "execution_count": null,
   "metadata": {},
   "outputs": [],
   "source": [
    "import matplotlib.pyplot as plt\n",
    "import numpy as np\n",
    "import seaborn as sns\n",
    "np.random.seed(123)"
   ]
  },
  {
   "cell_type": "code",
   "execution_count": null,
   "metadata": {},
   "outputs": [],
   "source": [
    "class MDP:\n",
    "    \"\"\"  \n",
    "    Rows in _transitions correspond to actions: 0: up, 1: right, 2: left, 3: down\n",
    "    - First value in brackets is the index change in the environment grid -1:'left'| +1:'up'|-4:'down'|+4:'up', \n",
    "    - Second value is the probability of going into that direction when choosing an action\n",
    "    \"\"\"\n",
    "    _transitions = np.array([    \n",
    "        [[4, 0.8], [-1, 0.1], [1, 0.1]],  #Action 0 (up) -> with prob 0.8 go up, with 0.1 go left or right\n",
    "        [[1, 0.8], [-4, 0.1], [4, 0.1]],  #with prob 0.8 go right\n",
    "        [[-1, 0.8], [-4, 0.1], [4, 0.1]], #with prob 0.8 go left\n",
    "        [[-4, 0.8], [-1, 0.1], [1, 0.1]]  #with prob 0.8 go down\n",
    "        ])\n",
    "    \n",
    "    def __init__(self, gamma=0.9):\n",
    "        self.reward = np.zeros(3*4)\n",
    "        self.reward[-1] = +1  #index -1 = 11\n",
    "        #self.reward[5] = -1\n",
    "        self.reward[7] = -1\n",
    "        self.gamma = gamma\n",
    "        \n",
    "    def rewards(self, state):\n",
    "        \"\"\"\n",
    "        Returns the reward for the given state as scalar.\n",
    "        \"\"\"\n",
    "        return self.reward[state]\n",
    "    \n",
    "    def _bounces(self, state, s):\n",
    "        return np.sum(\n",
    "            np.abs(np.array(np.where(np.arange(12).reshape((3,4)) == state)) \n",
    "                   - np.array(np.where(np.arange(12).reshape((3,4)) == s)))\n",
    "        ) > 1\n",
    "    \n",
    "    def transition_probs(self, state, action):\n",
    "        \"\"\"\n",
    "        For a given state action pair, returns a list of follow states including their probabilities.\n",
    "        If a state has no follow states, we return [0, 0].\n",
    "        Example:\n",
    "        Suppose (s, a) =  (4, 'up'). We go up to 8 with probability 0.8, left or right with probability 0.1. \n",
    "        In the latter two cases, we bump into the wall and stay at 4 Thus the output is [[8, 0.8], [4, 0.1], [4, 0.1]]\n",
    "        \"\"\"\n",
    "        if state == 7 or state == 11:\n",
    "            return np.zeros((0, 2))\n",
    "        trans = MDP._transitions[action].copy()\n",
    "        trans = trans.T\n",
    "        trans[0,:] += state \n",
    "        trans = trans.T     #follow states\n",
    "        \n",
    "        #if agent bounces into wall, stay at current state\n",
    "        for i, (s_new, prob) in enumerate(trans):\n",
    "            if s_new < 0 or s_new >= 3*4 or s_new == 5 or self._bounces(state, s_new):\n",
    "                trans[i,0] = state\n",
    "        return trans\n",
    "    \n",
    "mdp = MDP()\n",
    "#mdp.transition_probs(4, 0)"
   ]
  },
  {
   "cell_type": "code",
   "execution_count": null,
   "metadata": {},
   "outputs": [],
   "source": [
    "def plot_environment(values):\n",
    "    plt.figure()\n",
    "    reshaped = values.reshape((3,4))\n",
    "    ax = sns.heatmap(reshaped, annot=True)\n",
    "    ax.invert_yaxis()\n",
    "    ax.set_ylim(-0.1, 3.1)\n",
    "    plt.show()"
   ]
  },
  {
   "cell_type": "markdown",
   "metadata": {},
   "source": [
    "## Model-free\n",
    "\n",
    "Since we use model-free reinforcement learning, we do not know the model (the underlying MDP). Hence, the agent can only learn from experience (observations and rewards) within the environment. In the following cell we define the environment the agent interacts with:"
   ]
  },
  {
   "cell_type": "code",
   "execution_count": null,
   "metadata": {},
   "outputs": [],
   "source": [
    "class GridEnvironment:\n",
    "    def __init__(self):\n",
    "        self.mdp = MDP()\n",
    "        self.reset()\n",
    "    \n",
    "    def reset(self):\n",
    "        self.state = 0\n",
    "        return self.state\n",
    "    \n",
    "    def act(self, action):\n",
    "        trans = self.mdp.transition_probs(self.state, action)\n",
    "        if len(trans) > 0:\n",
    "            self.state = int(np.random.choice(trans[:,0], p=trans[:,1]))\n",
    "        else:\n",
    "            raise Exception(\"terminal state has no action!\")\n",
    "        reward = self.mdp.rewards(self.state)\n",
    "        done = self.state == 7 or self.state == 11\n",
    "        return self.state, reward, done\n",
    "    \n",
    "    def actions(self):\n",
    "        return range(4)"
   ]
  },
  {
   "cell_type": "markdown",
   "metadata": {},
   "source": [
    "# Q-Learning\n",
    "\n",
    "Complete the Q-Learning algorithm in the following cell:"
   ]
  },
  {
   "cell_type": "code",
   "execution_count": null,
   "metadata": {},
   "outputs": [],
   "source": [
    "def q_learning(env, alpha, gamma, epsilon, epochs):\n",
    "    \"\"\"\n",
    "    Chooses an action a in state (observation) s epsilon-greedily and updates the q-values Q(s, a) by:\n",
    "    Q(s, a) = Q(s, a) + alpha*(R + gamma * max_a'(Q(s', a')) - Q(s, a))\n",
    "    \n",
    "    alpha: learning rate\n",
    "    gamma: discount factor\n",
    "    epsilon: exploration rate\n",
    "    \n",
    "    \"\"\"\n",
    "        \n",
    "    q_table = {}\n",
    "    \n",
    "    for epoch in range(epochs):\n",
    "        \n",
    "        done = False\n",
    "        observation = env.reset()\n",
    "        action = None\n",
    "        \n",
    "        while not done:\n",
    "            # TODO\n",
    "            raise Exception(\"Not implemented!\")\n",
    "        \n",
    "    return q_table"
   ]
  },
  {
   "cell_type": "code",
   "execution_count": null,
   "metadata": {},
   "outputs": [],
   "source": [
    "env = GridEnvironment()\n",
    "q_table = q_learning(env, 0.01, 0.9, 0.5, 20000)"
   ]
  },
  {
   "cell_type": "code",
   "execution_count": null,
   "metadata": {},
   "outputs": [],
   "source": [
    "# note that we do not have any action to choose in the terminal states and \n",
    "# thus we do not have any q-values for terminal states\n",
    "utilities = np.asarray([np.max(q_table.get(i, [np.nan])) for i in range(12)])\n",
    "print(\"Utility values (Q-learning)\")\n",
    "plot_environment(utilities)\n",
    "\n",
    "policy = np.asarray([np.nan if state not in q_table else np.argmax(q_table[state]) for state in range(len(utilities))])\n",
    "policy[5] = policy[7] = policy[11] = -1\n",
    "\n",
    "print(\"Policy (Q-learning)\")\n",
    "plot_environment(policy)"
   ]
  },
  {
   "cell_type": "markdown",
   "metadata": {},
   "source": [
    "## SARSA\n",
    "\n",
    "Complete the SARSA algorithm in the following cell:"
   ]
  },
  {
   "cell_type": "code",
   "execution_count": null,
   "metadata": {},
   "outputs": [],
   "source": [
    "\n",
    "def sarsa(env, alpha, gamma, epsilon, epochs):\n",
    "    \"\"\"\n",
    "    Chooses an action a in state s (epsilon-greedy) and updates the q-values Q(s, a) by:\n",
    "    Q(s, a) = Q(s, a) + alpha*(R + gamma * (Q(s', a')) - Q(s, a)) where a' is the next epsilon greedy acti\n",
    "    \n",
    "    alpha: learning rate\n",
    "    gamma: discount factor\n",
    "    epsilon: exploration rate\n",
    "    \"\"\"\n",
    "    \n",
    "    q_table = {}\n",
    "    \n",
    "    for epoch in range(epochs):\n",
    "        \n",
    "        done = False\n",
    "        observation = env.reset()\n",
    "        action = None\n",
    "        \n",
    "        while not done:\n",
    "            # TODO\n",
    "            raise Exception(\"Not implemented!\")\n",
    "        \n",
    "    return q_table"
   ]
  },
  {
   "cell_type": "code",
   "execution_count": null,
   "metadata": {},
   "outputs": [],
   "source": [
    "env = GridEnvironment()\n",
    "\n",
    "q_table = sarsa(env, 0.01, 0.9, 0.5, 20000)"
   ]
  },
  {
   "cell_type": "code",
   "execution_count": null,
   "metadata": {},
   "outputs": [],
   "source": [
    "utilities = np.asarray([np.max(q_table.get(i, [np.nan])) for i in range(12)])\n",
    "print(\"Utility values (SARSA)\")\n",
    "plot_environment(utilities)\n",
    "\n",
    "policy = np.asarray([np.nan if state not in q_table else np.argmax(q_table[state]) for state in range(len(utilities))])\n",
    "policy[5] = policy[7] = policy[11] = -1\n",
    "\n",
    "print(\"Policy (SARSA)\")\n",
    "plot_environment(policy)"
   ]
  },
  {
   "cell_type": "markdown",
   "metadata": {},
   "source": [
    "## Question\n",
    "\n",
    "Why is the policy from SARSA different? Is it optimal?\n",
    "What do we need to change such that the policies are equal?"
   ]
  }
 ],
 "metadata": {
  "kernelspec": {
   "display_name": "Python 3",
   "language": "python",
   "name": "python3"
  },
  "language_info": {
   "codemirror_mode": {
    "name": "ipython",
    "version": 3
   },
   "file_extension": ".py",
   "mimetype": "text/x-python",
   "name": "python",
   "nbconvert_exporter": "python",
   "pygments_lexer": "ipython3",
   "version": "3.9.5"
  }
 },
 "nbformat": 4,
 "nbformat_minor": 2
}
